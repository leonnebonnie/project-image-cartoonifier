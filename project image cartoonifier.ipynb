{
 "cells": [
  {
   "cell_type": "markdown",
   "id": "060f8b43",
   "metadata": {},
   "source": [
    "# project image cartoonifier"
   ]
  },
  {
   "cell_type": "code",
   "execution_count": 5,
   "id": "516fda8f",
   "metadata": {
    "scrolled": true
   },
   "outputs": [
    {
     "name": "stdout",
     "output_type": "stream",
     "text": [
      "Requirement already satisfied: opencv-python in c:\\users\\leonn\\anaconda32\\lib\\site-packages (4.6.0.66)\n",
      "Requirement already satisfied: numpy>=1.19.3 in c:\\users\\leonn\\anaconda32\\lib\\site-packages (from opencv-python) (1.21.5)\n",
      "Note: you may need to restart the kernel to use updated packages.\n"
     ]
    }
   ],
   "source": [
    "pip install opencv-python"
   ]
  },
  {
   "cell_type": "code",
   "execution_count": 6,
   "id": "d2b680ba",
   "metadata": {},
   "outputs": [
    {
     "name": "stdout",
     "output_type": "stream",
     "text": [
      "Requirement already satisfied: easygui in c:\\users\\leonn\\anaconda32\\lib\\site-packages (0.98.3)\n",
      "Note: you may need to restart the kernel to use updated packages.\n"
     ]
    }
   ],
   "source": [
    "pip install easygui"
   ]
  },
  {
   "cell_type": "code",
   "execution_count": 13,
   "id": "9d765ede",
   "metadata": {},
   "outputs": [],
   "source": [
    "# importing the needed libraries\n",
    "import cv2 # for image processing using open cv\n",
    "import easygui # to open a filebox. allows us to select files from our folders\n",
    "import numpy as np # to facilitate storage of our image...images are processed as numbers\n",
    "import imageio # to read an image from a specified path.\n",
    "import sys # used to manipulate different parts of the runtime environment\n",
    "import matplotlib as plt # for visualization and plotting\n",
    "import os # for os interaction\n",
    "import tkinter as tk # to provide fast and easy way to create applications\n",
    "from tkinter import filedialog\n",
    "from tkinter import * # imports all functions and methods without having to import them implicitly\n",
    "from PIL import ImageTk,Image # from python image library"
   ]
  },
  {
   "cell_type": "code",
   "execution_count": 22,
   "id": "41550be5",
   "metadata": {},
   "outputs": [],
   "source": [
    "#building a filebox to open a specifc file\n",
    "#\"\"\"fileopenbox opensthe box to open a specific file from a folder and help store the file as a string\"\"\"\n",
    "def upload():\n",
    "    ImagePath=easygui.fileopenbox()\n",
    "    cartoonify(ImagePath)"
   ]
  },
  {
   "cell_type": "code",
   "execution_count": 27,
   "id": "c7ca88bc",
   "metadata": {},
   "outputs": [],
   "source": [
    "def  cartoonify(ImagePath): # reading the image\n",
    "    originalImage=cv2.imread(ImagePath) # imread method is used to store image as numbers\n",
    "    originalImage=cv2.cvtColor(originalImage, cv2.COLOR_BGR2RGB)\n",
    "    #print(image) # store it in numbers\n",
    "    # confirm if the image is choosen\n",
    "    if originalImage is None:\n",
    "        print('Cannot find any image. choose an appropriate file')\n",
    "        sys.exit()\n",
    "        \n",
    "    ResizedImage=cv2.resize(originalImage, (960, 540))# we resize our image after each transformation\n",
    "    plt.imshow(ResizedImage, cmap='gray')\n",
    "    # converting the image to grayscale\n",
    "    GrayScaleImage= cv2.cvtColor(originalImage, cv2.COLOR_BGR2RGB)\n",
    "    Resized2=cv2.resize(GrayScaleImage, (960,540))\n",
    "    #plt.imshow(Resized2, cmap='gray')\n",
    "    # applying the smoothscale blur to smoothen the image\n",
    "    SmoothGrayScale= cv2.medianBlur(GrayScaleImage, 5) # we smoothen the image using blur function\n",
    "    Resized3=cv2.resize(SmoothGrayScale, (960,540))\n",
    "    #plt.imshow(Resized3, cmap='gray')\n",
    "    #retrieving the edges of the cartoon effect\n",
    "    # using the thresholding technique\n",
    "    getEdge= cv2.adaptiveThreshold(SmoothGrayScale, 255, cv2.ADAPTIVE_THRESH_MEAN_C, cv2.THRESH_BINARY, 9, 9)# c is the constant subtracted from the mean of the neighbourhood pixel\n",
    "    Resized4=cv2.resize(getEdge, (960,540))\n",
    "    #plt.imshow(Resized2, cmap='gray')\n",
    "    #preparing a mask image\n",
    "    # applying a bilateral filter to remove nose and keep the edges smooth\n",
    "    colorImage=cv2.bilateralFilter(originalImage, 9, 300, 300)\n",
    "    Resized5=cv2.resize(colorImage, (960,540))\n",
    "    #plt.imshow(Resized2, cmap='gray')\n",
    "    #masking our edged image with our beautified image\n",
    "    cartoonImage= cv2.bitwise_and(colorImage, colorImage, mask=getEdge) # we use bitweise_and because all images are in numbers (0,1)\n",
    "    Resized6=cv2.resize(cartoonImage, (960,540))\n",
    "    #plt.imshow(Resized2, cmap='gray')\n",
    "    # plotting all transitions\n",
    "    images=[ResizedImage, Resized1, Resized2, Resized3, Resized4, Resized5, Resized6]\n",
    "    fig, axes=plt.subplots(3, 2, figsize=(8,8), subplot_kw={'xticks':[], 'yticks':[]}, gridspec_kw=dict(hspace=0.1, wspace=0.1))\n",
    "    for i, ax in enumerate(axes.flat):\n",
    "        ax.imshow(images[i], cmap='gray')\n",
    "       # // save buttons//\n",
    "    plt.show()\n",
    "# creating a save button\n",
    "def save(Resized6,ImagePath):\n",
    "    # we save the image  using imwrite()\n",
    "    newName='cartoon_image'\n",
    "    path1=os.path.dirname(ImagePath)\n",
    "    extension=os.path.splitext(ImagePath)[1]\n",
    "    path=path.join(path1, newName+extension)\n",
    "    cv2.imwrite(path, cv2.cvtColor(Resize6, cv2.COLOR_BGR2RGB))\n",
    "    I=\"Image saved by name\"+newName+\"at\"+path\n",
    "    tk.messagebox.showinfo(title=none, message=I)\n",
    "#making the main window\n",
    "top=tk.Tk()\n",
    "top.geometry('400x400')\n",
    "top.title('Cartoonify your image !')\n",
    "top.configure(background='white')\n",
    "label=Label(top, background='blue', font=('calibri',20,'bold'))\n",
    "# making the cartoonify button in the main window\n",
    "upload=Button(top, text='cartoonify you photo',command=upload, padx=10,pady=5)\n",
    "upload.configure(background='#00FF00',foreground='white',font=('Helvetica',10,'bold'))\n",
    "upload.pack(side=TOP, pady=50)\n",
    "# making save button in the main window\n",
    "save1=Button(top, text=\"save cartoon image\", command=lambda: save(ImagePath, Resized6), padx=30, pady=5)\n",
    "save1.configure(background='green', foreground='red', font=('calibri',10,'bold'))\n",
    "save1.pack(side=TOP, pady=50)\n",
    "top.mainloop()\n"
   ]
  },
  {
   "cell_type": "code",
   "execution_count": null,
   "id": "b2ce61c9",
   "metadata": {},
   "outputs": [],
   "source": []
  },
  {
   "cell_type": "code",
   "execution_count": null,
   "id": "fd5b582e",
   "metadata": {},
   "outputs": [],
   "source": []
  }
 ],
 "metadata": {
  "kernelspec": {
   "display_name": "Python 3 (ipykernel)",
   "language": "python",
   "name": "python3"
  },
  "language_info": {
   "codemirror_mode": {
    "name": "ipython",
    "version": 3
   },
   "file_extension": ".py",
   "mimetype": "text/x-python",
   "name": "python",
   "nbconvert_exporter": "python",
   "pygments_lexer": "ipython3",
   "version": "3.9.12"
  }
 },
 "nbformat": 4,
 "nbformat_minor": 5
}
